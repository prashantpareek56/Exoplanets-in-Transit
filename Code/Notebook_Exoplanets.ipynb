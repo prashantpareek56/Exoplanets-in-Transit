{
 "cells": [
  {
   "cell_type": "code",
   "execution_count": 1,
   "metadata": {},
   "outputs": [],
   "source": [
    "#FUNCTIONS\n",
    "import numpy as np\n",
    "def data(frame, hdul):# Getting Flux Data\n",
    "    return hdul[1].data['FLUX'][frame]\n",
    "def get_time(frame, hdul):# Getting Time data\n",
    "    return hdul[1].data['TIME'][frame]\n",
    "def fillna(arr):# Used to fill na values # Not relevant for this program\n",
    "    for i in range(len(arr)):\n",
    "        if np.isnan(arr[i]):\n",
    "            if(np.isnan(arr[(i+1)%len(arr)])):\n",
    "                arr[i] = 0\n",
    "            else:\n",
    "                arr[i] = arr[i-1]\n",
    "def normalise(arr):# Normalize using median\n",
    "    ma = np.array(arr).max()\n",
    "    mi = np.array(arr).min()\n",
    "    r = ma - mi\n",
    "    median = np.median(np.array(arr))\n",
    "    mean = np.array(arr).mean()\n",
    "    for i in range(len(arr)):\n",
    "        arr[i] = (arr[i])/(median)\n",
    "    return arr\n",
    "def get_mask(hdul):# Returns the optimal aperture pixels( > 1)\n",
    "    aperture = hdul[2].data\n",
    " #   mean = aperture.mean()\n",
    "    mask = []\n",
    "    for x in range(len(aperture)):\n",
    "        for y in range(len(aperture[x])):\n",
    "            if aperture[x][y] > 1:\n",
    "                mask.append((x, y))\n",
    "    return mask\n",
    "def req_flux(frame, hdul):# Return the SAP Flux(Adding flux of all optimal apertures)\n",
    "    d = data(frame, hdul)#-err(frame)\n",
    "    flux = 0\n",
    "    for x in get_mask(hdul):\n",
    "        flux += d[x[0]][x[1]]\n",
    "    return flux"
   ]
  },
  {
   "cell_type": "code",
   "execution_count": 2,
   "metadata": {},
   "outputs": [],
   "source": [
    "from astropy.io import fits\n",
    "import matplotlib.pyplot as plt\n",
    "from scipy.signal import savgol_filter # Filter used by Polynomial Regression"
   ]
  },
  {
   "cell_type": "code",
   "execution_count": 3,
   "metadata": {},
   "outputs": [],
   "source": [
    "from astropy.timeseries import BoxLeastSquares as bls #To find the period using Transit data using BLS ALGO"
   ]
  },
  {
   "cell_type": "code",
   "execution_count": 4,
   "metadata": {},
   "outputs": [],
   "source": [
    "import pandas as pd"
   ]
  },
  {
   "cell_type": "code",
   "execution_count": 10,
   "metadata": {},
   "outputs": [],
   "source": [
    "# For Substitute of SG Filter\n",
    "from sklearn.linear_model import LinearRegression\n",
    "from sklearn.metrics import mean_squared_error, r2_score\n",
    "from sklearn.preprocessing import PolynomialFeatures"
   ]
  },
  {
   "cell_type": "code",
   "execution_count": 5,
   "metadata": {},
   "outputs": [
    {
     "name": "stdout",
     "output_type": "stream",
     "text": [
      "done\n"
     ]
    }
   ],
   "source": [
    "loc = '.\\\\8btpf\\\\'\n",
    "files = [] #Location all data files to be appended\n",
    "time = [] \n",
    "flux = []\n",
    "number = 2 #Number of files ( taken no of files+1 for for loop)\n",
    "for i in range(1, number, 1):\n",
    "    files.append(loc+str(i)+'.gz')#Storing Location of files\n",
    "for i in range(0, number-1):\n",
    "    fl = [] #New Flux file to be added\n",
    "    ti = [] #New Time to be added\n",
    "    with fits.open(files[i]) as hdul:\n",
    "        for j in range(len(hdul[1].data['FLUX'])):\n",
    "            ti.append(get_time(j, hdul))\n",
    "            fl.append(req_flux(j, hdul))\n",
    "            #Deleting nan\n",
    "        ti = [ti[j] for j in range(len(fl)) if fl[j] == fl[j]]\n",
    "        fl = [fl[j] for j in range(len(fl)) if fl[j] == fl[j]]\n",
    "        #fl = normalise(fl)\n",
    "        #if i>0 and i<number-1:\n",
    "         #   x = fl[0]-flux[-1]\n",
    "        #print([fl[0], fl[-1]])\n",
    "        #x = np.array(fl).mean()\n",
    "        #for k in range(len(fl)):\n",
    "        #   fl[k]-=x\n",
    "        #print([fl[0], fl[1]])\n",
    "        flux.extend(fl)# Adding complete array in a single command\n",
    "        #print([fl[0],flux[-1]])\n",
    "        time.extend(ti)\n",
    "        print('done')"
   ]
  },
  {
   "cell_type": "code",
   "execution_count": 6,
   "metadata": {},
   "outputs": [],
   "source": [
    "hdul = fits.open(files[0])\n",
    "R_s = hdul[0].header['RADIUS'] #Storing Radius of host Star"
   ]
  },
  {
   "cell_type": "code",
   "execution_count": 7,
   "metadata": {},
   "outputs": [],
   "source": [
    "x = np.array(time.copy()) # x stores time in a array\n",
    "y = np.array(flux.copy()) # y stores flux in a array\n",
    "datas = pd.DataFrame({'Column1': x, 'Column2': y}) # Combining x and y into a dataframe\n",
    "#datas\n",
    "#plt.plot(x[[i<130 for i in y]], y[[i<130 for i in y]])"
   ]
  },
  {
   "cell_type": "code",
   "execution_count": 11,
   "metadata": {},
   "outputs": [],
   "source": [
    "X = datas.iloc[:, 0:1].values # Extracting X to use it in polynomial regression\n",
    "y = datas.iloc[:, 1].values # Extracting y to use it in polynomial regression\n",
    "# Fitting Polynomial Regression to the dataset \n",
    "from sklearn.preprocessing import PolynomialFeatures \n",
    "  \n",
    "poly = PolynomialFeatures(degree = 3) #Creating model with degree 3\n",
    "X_poly = poly.fit_transform(X) #Fitting X into dataset\n",
    "  \n",
    "poly.fit(X_poly, y) #Fitting with training set \n",
    "lin2 = LinearRegression() #Creating model\n",
    "lin2.fit(X_poly, y) #fittiing\n",
    "y_pred = lin2.predict(poly.fit_transform(X)) #Predicting y\n"
   ]
  },
  {
   "cell_type": "code",
   "execution_count": 12,
   "metadata": {},
   "outputs": [
    {
     "data": {
      "image/png": "[encoded data removed]",
      "text/plain": [
       "<Figure size 432x288 with 1 Axes>"
      ]
     },
     "metadata": {
      "needs_background": "light"
     },
     "output_type": "display_data"
    }
   ],
   "source": [
    "#plt.plot(X, y)\n",
    "#plt.plot(X, y_pred, color = 'red')\n",
    "r = y - y_pred # Flattening the graph\n",
    "plt.plot(X, y)\n",
    "plt.savefig(\"./unflattened.pdf\")\n",
    "#plt.plot(X, y_pred, color='red')"
   ]
  },
  {
   "cell_type": "code",
   "execution_count": 13,
   "metadata": {},
   "outputs": [],
   "source": [
    "a = [i for i in range(len(X)) if X[i]<125.6 and X[i]>123.5] #For Zooming in a portion of graph"
   ]
  },
  {
   "cell_type": "code",
   "execution_count": 14,
   "metadata": {},
   "outputs": [],
   "source": [
    "F = mean1 = y.mean()  # Calculating mean"
   ]
  },
  {
   "cell_type": "code",
   "execution_count": 15,
   "metadata": {
    "scrolled": true
   },
   "outputs": [
    {
     "data": {
      "image/png": "[encoded data removed]",
      "text/plain": [
       "<Figure size 432x288 with 1 Axes>"
      ]
     },
     "metadata": {
      "needs_background": "light"
     },
     "output_type": "display_data"
    }
   ],
   "source": [
    "plt.plot(X, r) # Plotting Flattened graph\n",
    "plt.savefig(\"flattened.pdf\")"
   ]
  },
  {
   "cell_type": "code",
   "execution_count": 16,
   "metadata": {},
   "outputs": [
    {
     "data": {
      "text/plain": [
       "-1.2020558811897456e-09"
      ]
     },
     "execution_count": 16,
     "metadata": {},
     "output_type": "execute_result"
    }
   ],
   "source": [
    "r.mean()"
   ]
  },
  {
   "cell_type": "code",
   "execution_count": 17,
   "metadata": {},
   "outputs": [],
   "source": [
    "model = bls(x, r)"
   ]
  },
  {
   "cell_type": "code",
   "execution_count": 18,
   "metadata": {},
   "outputs": [],
   "source": [
    "pgm = model.autopower(0.02)"
   ]
  },
  {
   "cell_type": "code",
   "execution_count": 19,
   "metadata": {
    "scrolled": false
   },
   "outputs": [
    {
     "data": {
      "image/png": "[encoded data removed]",
      "text/plain": [
       "<Figure size 432x288 with 1 Axes>"
      ]
     },
     "metadata": {
      "needs_background": "light"
     },
     "output_type": "display_data"
    },
    {
     "data": {
      "text/plain": [
       "<Figure size 432x288 with 0 Axes>"
      ]
     },
     "metadata": {},
     "output_type": "display_data"
    }
   ],
   "source": [
    "plt.plot(pgm.period, pgm.power)\n",
    "plt.show()\n",
    "plt.savefig(\"bls.pdf\")"
   ]
  },
  {
   "cell_type": "code",
   "execution_count": 20,
   "metadata": {},
   "outputs": [],
   "source": [
    "max_power = np.argmax(pgm.power)\n",
    "stats = model.compute_stats(pgm.period[max_power], pgm.duration[max_power], pgm.transit_time[max_power])"
   ]
  },
  {
   "cell_type": "code",
   "execution_count": 21,
   "metadata": {},
   "outputs": [],
   "source": [
    "period = pgm.period[max_power]"
   ]
  },
  {
   "cell_type": "code",
   "execution_count": 22,
   "metadata": {},
   "outputs": [
    {
     "data": {
      "text/plain": [
       "1.493470772825595"
      ]
     },
     "execution_count": 22,
     "metadata": {},
     "output_type": "execute_result"
    }
   ],
   "source": [
    "pgm.transit_time[max_power] "
   ]
  },
  {
   "cell_type": "code",
   "execution_count": 23,
   "metadata": {
    "scrolled": true
   },
   "outputs": [],
   "source": [
    "transits = stats['transit_times']"
   ]
  },
  {
   "cell_type": "code",
   "execution_count": 24,
   "metadata": {},
   "outputs": [],
   "source": [
    "phase = [(p - X[0])%period for p in X] #Creating phase ( For folding periods)\n",
    "sorte = np.argsort(np.array(phase), axis = None) #Sorted indices"
   ]
  },
  {
   "cell_type": "code",
   "execution_count": 25,
   "metadata": {},
   "outputs": [],
   "source": [
    "#If phase time are repeated (Not specifically required in this file, but is a necessary step for making model)\n",
    "ps = [phase[i] for i in sorte]\n",
    "fp = [r[i] for i in sorte]\n",
    "fm = []\n",
    "pnr = [ps[0]]\n",
    "s = fp[0]\n",
    "count = 1\n",
    "for i in range(1, len(ps)):\n",
    "    if ps[i]==ps[i-1]:\n",
    "        count+=1\n",
    "        s+=fp[i]\n",
    "    else:\n",
    "        fm.append(s/count)\n",
    "        count=1\n",
    "        s = fp[i]\n",
    "        pnr.append(ps[i])"
   ]
  },
  {
   "cell_type": "code",
   "execution_count": 26,
   "metadata": {
    "scrolled": false
   },
   "outputs": [],
   "source": [
    "l = [] #Sorted phase\n",
    "m = [] #Folded Flux\n",
    "for x in sorte:\n",
    "    l.append(phase[x])\n",
    "    m.append(r[x])\n",
    "e = [i for i in range(len(l)) if l[i]<0.8 and l[i]>0.44] #For Zooming in the transit period\n",
    "d = pd.DataFrame({'phase': l[e[0]:e[-1]], 'flux': m[e[0]:e[-1]]})\n",
    "#d #Printing"
   ]
  },
  {
   "cell_type": "code",
   "execution_count": 27,
   "metadata": {
    "scrolled": true
   },
   "outputs": [
    {
     "data": {
      "image/png": "[encoded data removed]",
      "text/plain": [
       "<Figure size 432x288 with 1 Axes>"
      ]
     },
     "metadata": {
      "needs_background": "light"
     },
     "output_type": "display_data"
    }
   ],
   "source": [
    "plt.plot(l[e[0]:e[-1]], m[e[0]:e[-1]])#The Folded Lightcurve zoomed in at the transit\n",
    "plt.savefig(\"ZoomedOnTransit.pdf\")"
   ]
  },
  {
   "cell_type": "code",
   "execution_count": 28,
   "metadata": {},
   "outputs": [],
   "source": [
    "tf = -0.5036758779260913 + 0.6539004857622785 #Total Transit Time\n",
    "tt = 0.6298758419989201 - 0.5312941339216195 #Time of full transit\n",
    "delta = 354.063446/mean1 #Dip/mean\n",
    "semi = R_s*((2*period/np.pi)*((delta)**0.25)/((tf*tf-tt*tt)**0.5))#Calculating Semi MAjor Axis"
   ]
  },
  {
   "cell_type": "code",
   "execution_count": 40,
   "metadata": {},
   "outputs": [
    {
     "data": {
      "text/plain": [
       "0.1502246078361873"
      ]
     },
     "execution_count": 40,
     "metadata": {},
     "output_type": "execute_result"
    }
   ],
   "source": [
    "tf"
   ]
  },
  {
   "cell_type": "code",
   "execution_count": 29,
   "metadata": {},
   "outputs": [
    {
     "data": {
      "image/png": "[encoded data removed]",
      "text/plain": [
       "<Figure size 576x432 with 1 Axes>"
      ]
     },
     "metadata": {
      "needs_background": "light"
     },
     "output_type": "display_data"
    }
   ],
   "source": [
    "flcf = savgol_filter(m, 11, 3) #Model for the folded lightcurve\n",
    "plt.scatter(l/period, m, s=2, color = (0.9, 0.9, 0, 0.9)) #Complete Folded Lightcurve after scaling the phase between 0 and 1\n",
    "plt.plot(l/period, flcf, color = 'red') #Plot of the model\n",
    "plt.gcf().set_size_inches(8, 6)\n",
    "plt.savefig(\"Folded.pdf\")"
   ]
  },
  {
   "cell_type": "code",
   "execution_count": 30,
   "metadata": {},
   "outputs": [],
   "source": [
    "semiau = (semi*695510)/(149597871)# Semi-Major Axis in Astonomical Unit"
   ]
  },
  {
   "cell_type": "code",
   "execution_count": 31,
   "metadata": {},
   "outputs": [
    {
     "data": {
      "text/plain": [
       "0.040919109379812156"
      ]
     },
     "execution_count": 31,
     "metadata": {},
     "output_type": "execute_result"
    }
   ],
   "source": [
    "semiau"
   ]
  },
  {
   "cell_type": "code",
   "execution_count": 32,
   "metadata": {},
   "outputs": [
    {
     "data": {
      "text/plain": [
       "3.5183036261541827"
      ]
     },
     "execution_count": 32,
     "metadata": {},
     "output_type": "execute_result"
    }
   ],
   "source": [
    "period"
   ]
  },
  {
   "cell_type": "code",
   "execution_count": 33,
   "metadata": {},
   "outputs": [
    {
     "data": {
      "text/plain": [
       "0.0985817080773006"
      ]
     },
     "execution_count": 33,
     "metadata": {},
     "output_type": "execute_result"
    }
   ],
   "source": [
    "tt"
   ]
  },
  {
   "cell_type": "code",
   "execution_count": 34,
   "metadata": {},
   "outputs": [],
   "source": [
    "#Impact Parameter Calculation\n",
    "alpha = tt/tf\n",
    "b = ((((1-delta**0.5)**2) - alpha*alpha*((1+delta**0.5)**2))/(1-alpha**2))**0.5"
   ]
  },
  {
   "cell_type": "code",
   "execution_count": 35,
   "metadata": {},
   "outputs": [],
   "source": [
    "inclination = (np.arccos(b*R_s/semi)/np.pi)*180 #The Inclination of the orbit of the planet wrt Kepler's plane of sight"
   ]
  },
  {
   "cell_type": "code",
   "execution_count": 36,
   "metadata": {},
   "outputs": [
    {
     "data": {
      "text/plain": [
       "83.07201549820206"
      ]
     },
     "execution_count": 36,
     "metadata": {},
     "output_type": "execute_result"
    }
   ],
   "source": [
    "inclination"
   ]
  },
  {
   "cell_type": "code",
   "execution_count": 38,
   "metadata": {},
   "outputs": [
    {
     "data": {
      "text/plain": [
       "0.00888001017379896"
      ]
     },
     "execution_count": 38,
     "metadata": {},
     "output_type": "execute_result"
    }
   ],
   "source": [
    "delta"
   ]
  },
  {
   "cell_type": "code",
   "execution_count": 37,
   "metadata": {
    "scrolled": true
   },
   "outputs": [
    {
     "data": {
      "text/plain": [
       "350.7480313365093"
      ]
     },
     "execution_count": 37,
     "metadata": {},
     "output_type": "execute_result"
    }
   ],
   "source": [
    "delF = stats['depth'][0]\n",
    "delF"
   ]
  },
  {
   "cell_type": "code",
   "execution_count": 35,
   "metadata": {},
   "outputs": [],
   "source": [
    "R_s = 1.486"
   ]
  },
  {
   "cell_type": "code",
   "execution_count": 36,
   "metadata": {},
   "outputs": [],
   "source": [
    "R_p = R_s*(np.sqrt(delF/F))"
   ]
  },
  {
   "cell_type": "code",
   "execution_count": 37,
   "metadata": {},
   "outputs": [
    {
     "data": {
      "text/plain": [
       "1.386561799488476"
      ]
     },
     "execution_count": 37,
     "metadata": {},
     "output_type": "execute_result"
    }
   ],
   "source": [
    "R_p/0.100517895#Radius of the planet in units of the radius of jupiter"
   ]
  },
  {
   "cell_type": "code",
   "execution_count": 38,
   "metadata": {},
   "outputs": [
    {
     "data": {
      "text/plain": [
       "0.7341827534216645"
      ]
     },
     "execution_count": 38,
     "metadata": {},
     "output_type": "execute_result"
    }
   ],
   "source": [
    "k = period*24*3600\n",
    "G = 6.674*(10**(-11))\n",
    "M_s = (semiau**3)*4*(np.pi**2)/(k*k*G)\n",
    "M_s*(149597871000)**3/(2*10**30)  #Error in some units actual ans 1.213 times"
   ]
  },
  {
   "cell_type": "code",
   "execution_count": 40,
   "metadata": {},
   "outputs": [],
   "source": [
    "inverse = ifft(fourier)"
   ]
  },
  {
   "cell_type": "code",
   "execution_count": 41,
   "metadata": {},
   "outputs": [
    {
     "data": {
      "text/plain": [
       "[<matplotlib.lines.Line2D at 0x1adffb7af98>]"
      ]
     },
     "execution_count": 41,
     "metadata": {},
     "output_type": "execute_result"
    },
    {
     "data": {
      "image/png": "[encoded data removed]",
      "text/plain": [
       "<Figure size 432x288 with 1 Axes>"
      ]
     },
     "metadata": {
      "needs_background": "light"
     },
     "output_type": "display_data"
    }
   ],
   "source": [
    "plt.plot(X, inverse)"
   ]
  }
 ],
 "metadata": {
  "kernelspec": {
   "display_name": "Python 3",
   "language": "python",
   "name": "python3"
  },
  "language_info": {
   "codemirror_mode": {
    "name": "ipython",
    "version": 3
   },
   "file_extension": ".py",
   "mimetype": "text/x-python",
   "name": "python",
   "nbconvert_exporter": "python",
   "pygments_lexer": "ipython3",
   "version": "3.6.9"
  }
 },
 "nbformat": 4,
 "nbformat_minor": 2
}
